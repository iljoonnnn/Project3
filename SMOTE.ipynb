{
  "nbformat": 4,
  "nbformat_minor": 0,
  "metadata": {
    "colab": {
      "provenance": []
    },
    "kernelspec": {
      "name": "python3",
      "display_name": "Python 3"
    },
    "language_info": {
      "name": "python"
    }
  },
  "cells": [
    {
      "cell_type": "code",
      "source": [
        "#!sudo apt-get install -y fonts-nanum\n",
        "#!sudo fc-cache -fv\n",
        "#!rm ~/.cache/matplotlib -rf"
      ],
      "metadata": {
        "colab": {
          "base_uri": "https://localhost:8080/"
        },
        "id": "7QBnIifAxK6j",
        "outputId": "d3c93e48-e9f5-4726-9af4-579f66d529aa"
      },
      "execution_count": 4,
      "outputs": [
        {
          "output_type": "stream",
          "name": "stdout",
          "text": [
            "Reading package lists... Done\n",
            "Building dependency tree... Done\n",
            "Reading state information... Done\n",
            "The following NEW packages will be installed:\n",
            "  fonts-nanum\n",
            "0 upgraded, 1 newly installed, 0 to remove and 49 not upgraded.\n",
            "Need to get 10.3 MB of archives.\n",
            "After this operation, 34.1 MB of additional disk space will be used.\n",
            "Get:1 http://archive.ubuntu.com/ubuntu jammy/universe amd64 fonts-nanum all 20200506-1 [10.3 MB]\n",
            "Fetched 10.3 MB in 1s (11.7 MB/s)\n",
            "debconf: unable to initialize frontend: Dialog\n",
            "debconf: (No usable dialog-like program is installed, so the dialog based frontend cannot be used. at /usr/share/perl5/Debconf/FrontEnd/Dialog.pm line 78, <> line 1.)\n",
            "debconf: falling back to frontend: Readline\n",
            "debconf: unable to initialize frontend: Readline\n",
            "debconf: (This frontend requires a controlling tty.)\n",
            "debconf: falling back to frontend: Teletype\n",
            "dpkg-preconfigure: unable to re-open stdin: \n",
            "Selecting previously unselected package fonts-nanum.\n",
            "(Reading database ... 123621 files and directories currently installed.)\n",
            "Preparing to unpack .../fonts-nanum_20200506-1_all.deb ...\n",
            "Unpacking fonts-nanum (20200506-1) ...\n",
            "Setting up fonts-nanum (20200506-1) ...\n",
            "Processing triggers for fontconfig (2.13.1-4.2ubuntu5) ...\n",
            "/usr/share/fonts: caching, new cache contents: 0 fonts, 1 dirs\n",
            "/usr/share/fonts/truetype: caching, new cache contents: 0 fonts, 3 dirs\n",
            "/usr/share/fonts/truetype/humor-sans: caching, new cache contents: 1 fonts, 0 dirs\n",
            "/usr/share/fonts/truetype/liberation: caching, new cache contents: 16 fonts, 0 dirs\n",
            "/usr/share/fonts/truetype/nanum: caching, new cache contents: 12 fonts, 0 dirs\n",
            "/usr/local/share/fonts: caching, new cache contents: 0 fonts, 0 dirs\n",
            "/root/.local/share/fonts: skipping, no such directory\n",
            "/root/.fonts: skipping, no such directory\n",
            "/usr/share/fonts/truetype: skipping, looped directory detected\n",
            "/usr/share/fonts/truetype/humor-sans: skipping, looped directory detected\n",
            "/usr/share/fonts/truetype/liberation: skipping, looped directory detected\n",
            "/usr/share/fonts/truetype/nanum: skipping, looped directory detected\n",
            "/var/cache/fontconfig: cleaning cache directory\n",
            "/root/.cache/fontconfig: not cleaning non-existent cache directory\n",
            "/root/.fontconfig: not cleaning non-existent cache directory\n",
            "fc-cache: succeeded\n"
          ]
        }
      ]
    },
    {
      "cell_type": "code",
      "source": [
        "import matplotlib.pyplot as plt\n",
        "plt.rc('font', family='NanumBarunGothic')\n",
        "plt.figure(figsize=(6, 4))\n",
        "plt.text(0.5, 0.5, '한글 폰트 테스트', size=15)\n",
        "plt.show()"
      ],
      "metadata": {
        "colab": {
          "base_uri": "https://localhost:8080/",
          "height": 373
        },
        "id": "hMjJKjA6xNwj",
        "outputId": "d4c1c7a9-a1d3-4817-a4d3-8f51295685d9"
      },
      "execution_count": 1,
      "outputs": [
        {
          "output_type": "display_data",
          "data": {
            "text/plain": [
              "<Figure size 600x400 with 1 Axes>"
            ],
            "image/png": "[encoded data removed]"
          },
          "metadata": {}
        }
      ]
    },
    {
      "cell_type": "code",
      "execution_count": 2,
      "metadata": {
        "id": "YUvu6422wp0P"
      },
      "outputs": [],
      "source": [
        "import pandas as pd\n",
        "import matplotlib.pyplot as plt\n",
        "import seaborn as sns\n",
        "import numpy as np\n",
        "from sklearn.cluster import KMeans\n",
        "from sklearn.preprocessing import LabelEncoder\n",
        "from scipy.stats import chi2_contingency\n",
        "from scipy.stats import ttest_ind"
      ]
    },
    {
      "cell_type": "markdown",
      "source": [
        "### 데이터 불러오기"
      ],
      "metadata": {
        "id": "EtdfL4PFyXPY"
      }
    },
    {
      "cell_type": "code",
      "source": [
        "df = pd.read_csv(\"/content/data_week3.csv\")\n",
        "df.head()"
      ],
      "metadata": {
        "colab": {
          "base_uri": "https://localhost:8080/",
          "height": 206
        },
        "id": "N_5RQmOEwx-e",
        "outputId": "4d00c081-3337-41d7-b40c-3d0d15d6f1a2"
      },
      "execution_count": 3,
      "outputs": [
        {
          "output_type": "execute_result",
          "data": {
            "text/plain": [
              "  unknown1  unknown2  unknown3  unknown4  unknown5  unknown6  unknown7  \\\n",
              "0    type3      1486       200         0         0        13        78   \n",
              "1    type2      1350       375         0         0         0        31   \n",
              "2    type2      2415       200         0         0         1         2   \n",
              "3    type3      7389       200         0         0         0         1   \n",
              "4    type3      3954       200         0         0         0         0   \n",
              "\n",
              "   unknown8  unknown9  unknown10  unknown11  unknown12  unknown13  unknown14  \\\n",
              "0       888       0.0         16          1          6       8504          5   \n",
              "1         2       0.0          0          0          0         19          0   \n",
              "2         4       0.0          0          0          0         17          0   \n",
              "3        37       0.0          1          0          0         44          0   \n",
              "4        71       0.0          0          0          0        217          0   \n",
              "\n",
              "   unknown15  unknown16  unknown17  target  \n",
              "0          0      154.0         75       0  \n",
              "1          0       44.0        652       0  \n",
              "2          0       72.6        412       1  \n",
              "3          0      133.3          7       0  \n",
              "4          0      133.1        128       0  "
            ],
            "text/html": [
              "\n",
              "  <div id=\"df-53aabc19-eef1-4861-a35a-7050f5c32133\" class=\"colab-df-container\">\n",
              "    <div>\n",
              "<style scoped>\n",
              "    .dataframe tbody tr th:only-of-type {\n",
              "        vertical-align: middle;\n",
              "    }\n",
              "\n",
              "    .dataframe tbody tr th {\n",
              "        vertical-align: top;\n",
              "    }\n",
              "\n",
              "    .dataframe thead th {\n",
              "        text-align: right;\n",
              "    }\n",
              "</style>\n",
              "<table border=\"1\" class=\"dataframe\">\n",
              "  <thead>\n",
              "    <tr style=\"text-align: right;\">\n",
              "      <th></th>\n",
              "      <th>unknown1</th>\n",
              "      <th>unknown2</th>\n",
              "      <th>unknown3</th>\n",
              "      <th>unknown4</th>\n",
              "      <th>unknown5</th>\n",
              "      <th>unknown6</th>\n",
              "      <th>unknown7</th>\n",
              "      <th>unknown8</th>\n",
              "      <th>unknown9</th>\n",
              "      <th>unknown10</th>\n",
              "      <th>unknown11</th>\n",
              "      <th>unknown12</th>\n",
              "      <th>unknown13</th>\n",
              "      <th>unknown14</th>\n",
              "      <th>unknown15</th>\n",
              "      <th>unknown16</th>\n",
              "      <th>unknown17</th>\n",
              "      <th>target</th>\n",
              "    </tr>\n",
              "  </thead>\n",
              "  <tbody>\n",
              "    <tr>\n",
              "      <th>0</th>\n",
              "      <td>type3</td>\n",
              "      <td>1486</td>\n",
              "      <td>200</td>\n",
              "      <td>0</td>\n",
              "      <td>0</td>\n",
              "      <td>13</td>\n",
              "      <td>78</td>\n",
              "      <td>888</td>\n",
              "      <td>0.0</td>\n",
              "      <td>16</td>\n",
              "      <td>1</td>\n",
              "      <td>6</td>\n",
              "      <td>8504</td>\n",
              "      <td>5</td>\n",
              "      <td>0</td>\n",
              "      <td>154.0</td>\n",
              "      <td>75</td>\n",
              "      <td>0</td>\n",
              "    </tr>\n",
              "    <tr>\n",
              "      <th>1</th>\n",
              "      <td>type2</td>\n",
              "      <td>1350</td>\n",
              "      <td>375</td>\n",
              "      <td>0</td>\n",
              "      <td>0</td>\n",
              "      <td>0</td>\n",
              "      <td>31</td>\n",
              "      <td>2</td>\n",
              "      <td>0.0</td>\n",
              "      <td>0</td>\n",
              "      <td>0</td>\n",
              "      <td>0</td>\n",
              "      <td>19</td>\n",
              "      <td>0</td>\n",
              "      <td>0</td>\n",
              "      <td>44.0</td>\n",
              "      <td>652</td>\n",
              "      <td>0</td>\n",
              "    </tr>\n",
              "    <tr>\n",
              "      <th>2</th>\n",
              "      <td>type2</td>\n",
              "      <td>2415</td>\n",
              "      <td>200</td>\n",
              "      <td>0</td>\n",
              "      <td>0</td>\n",
              "      <td>1</td>\n",
              "      <td>2</td>\n",
              "      <td>4</td>\n",
              "      <td>0.0</td>\n",
              "      <td>0</td>\n",
              "      <td>0</td>\n",
              "      <td>0</td>\n",
              "      <td>17</td>\n",
              "      <td>0</td>\n",
              "      <td>0</td>\n",
              "      <td>72.6</td>\n",
              "      <td>412</td>\n",
              "      <td>1</td>\n",
              "    </tr>\n",
              "    <tr>\n",
              "      <th>3</th>\n",
              "      <td>type3</td>\n",
              "      <td>7389</td>\n",
              "      <td>200</td>\n",
              "      <td>0</td>\n",
              "      <td>0</td>\n",
              "      <td>0</td>\n",
              "      <td>1</td>\n",
              "      <td>37</td>\n",
              "      <td>0.0</td>\n",
              "      <td>1</td>\n",
              "      <td>0</td>\n",
              "      <td>0</td>\n",
              "      <td>44</td>\n",
              "      <td>0</td>\n",
              "      <td>0</td>\n",
              "      <td>133.3</td>\n",
              "      <td>7</td>\n",
              "      <td>0</td>\n",
              "    </tr>\n",
              "    <tr>\n",
              "      <th>4</th>\n",
              "      <td>type3</td>\n",
              "      <td>3954</td>\n",
              "      <td>200</td>\n",
              "      <td>0</td>\n",
              "      <td>0</td>\n",
              "      <td>0</td>\n",
              "      <td>0</td>\n",
              "      <td>71</td>\n",
              "      <td>0.0</td>\n",
              "      <td>0</td>\n",
              "      <td>0</td>\n",
              "      <td>0</td>\n",
              "      <td>217</td>\n",
              "      <td>0</td>\n",
              "      <td>0</td>\n",
              "      <td>133.1</td>\n",
              "      <td>128</td>\n",
              "      <td>0</td>\n",
              "    </tr>\n",
              "  </tbody>\n",
              "</table>\n",
              "</div>\n",
              "    <div class=\"colab-df-buttons\">\n",
              "\n",
              "  <div class=\"colab-df-container\">\n",
              "    <button class=\"colab-df-convert\" onclick=\"convertToInteractive('df-53aabc19-eef1-4861-a35a-7050f5c32133')\"\n",
              "            title=\"Convert this dataframe to an interactive table.\"\n",
              "            style=\"display:none;\">\n",
              "\n",
              "  <svg xmlns=\"http://www.w3.org/2000/svg\" height=\"24px\" viewBox=\"0 -960 960 960\">\n",
              "    <path d=\"M120-120v-720h720v720H120Zm60-500h600v-160H180v160Zm220 220h160v-160H400v160Zm0 220h160v-160H400v160ZM180-400h160v-160H180v160Zm440 0h160v-160H620v160ZM180-180h160v-160H180v160Zm440 0h160v-160H620v160Z\"/>\n",
              "  </svg>\n",
              "    </button>\n",
              "\n",
              "  <style>\n",
              "    .colab-df-container {\n",
              "      display:flex;\n",
              "      gap: 12px;\n",
              "    }\n",
              "\n",
              "    .colab-df-convert {\n",
              "      background-color: #E8F0FE;\n",
              "      border: none;\n",
              "      border-radius: 50%;\n",
              "      cursor: pointer;\n",
              "      display: none;\n",
              "      fill: #1967D2;\n",
              "      height: 32px;\n",
              "      padding: 0 0 0 0;\n",
              "      width: 32px;\n",
              "    }\n",
              "\n",
              "    .colab-df-convert:hover {\n",
              "      background-color: #E2EBFA;\n",
              "      box-shadow: 0px 1px 2px rgba(60, 64, 67, 0.3), 0px 1px 3px 1px rgba(60, 64, 67, 0.15);\n",
              "      fill: #174EA6;\n",
              "    }\n",
              "\n",
              "    .colab-df-buttons div {\n",
              "      margin-bottom: 4px;\n",
              "    }\n",
              "\n",
              "    [theme=dark] .colab-df-convert {\n",
              "      background-color: #3B4455;\n",
              "      fill: #D2E3FC;\n",
              "    }\n",
              "\n",
              "    [theme=dark] .colab-df-convert:hover {\n",
              "      background-color: #434B5C;\n",
              "      box-shadow: 0px 1px 3px 1px rgba(0, 0, 0, 0.15);\n",
              "      filter: drop-shadow(0px 1px 2px rgba(0, 0, 0, 0.3));\n",
              "      fill: #FFFFFF;\n",
              "    }\n",
              "  </style>\n",
              "\n",
              "    <script>\n",
              "      const buttonEl =\n",
              "        document.querySelector('#df-53aabc19-eef1-4861-a35a-7050f5c32133 button.colab-df-convert');\n",
              "      buttonEl.style.display =\n",
              "        google.colab.kernel.accessAllowed ? 'block' : 'none';\n",
              "\n",
              "      async function convertToInteractive(key) {\n",
              "        const element = document.querySelector('#df-53aabc19-eef1-4861-a35a-7050f5c32133');\n",
              "        const dataTable =\n",
              "          await google.colab.kernel.invokeFunction('convertToInteractive',\n",
              "                                                    [key], {});\n",
              "        if (!dataTable) return;\n",
              "\n",
              "        const docLinkHtml = 'Like what you see? Visit the ' +\n",
              "          '<a target=\"_blank\" href=https://colab.research.google.com/notebooks/data_table.ipynb>data table notebook</a>'\n",
              "          + ' to learn more about interactive tables.';\n",
              "        element.innerHTML = '';\n",
              "        dataTable['output_type'] = 'display_data';\n",
              "        await google.colab.output.renderOutput(dataTable, element);\n",
              "        const docLink = document.createElement('div');\n",
              "        docLink.innerHTML = docLinkHtml;\n",
              "        element.appendChild(docLink);\n",
              "      }\n",
              "    </script>\n",
              "  </div>\n",
              "\n",
              "\n",
              "<div id=\"df-198beed3-84ad-457d-af9b-210f8bccedf4\">\n",
              "  <button class=\"colab-df-quickchart\" onclick=\"quickchart('df-198beed3-84ad-457d-af9b-210f8bccedf4')\"\n",
              "            title=\"Suggest charts\"\n",
              "            style=\"display:none;\">\n",
              "\n",
              "<svg xmlns=\"http://www.w3.org/2000/svg\" height=\"24px\"viewBox=\"0 0 24 24\"\n",
              "     width=\"24px\">\n",
              "    <g>\n",
              "        <path d=\"M19 3H5c-1.1 0-2 .9-2 2v14c0 1.1.9 2 2 2h14c1.1 0 2-.9 2-2V5c0-1.1-.9-2-2-2zM9 17H7v-7h2v7zm4 0h-2V7h2v10zm4 0h-2v-4h2v4z\"/>\n",
              "    </g>\n",
              "</svg>\n",
              "  </button>\n",
              "\n",
              "<style>\n",
              "  .colab-df-quickchart {\n",
              "      --bg-color: #E8F0FE;\n",
              "      --fill-color: #1967D2;\n",
              "      --hover-bg-color: #E2EBFA;\n",
              "      --hover-fill-color: #174EA6;\n",
              "      --disabled-fill-color: #AAA;\n",
              "      --disabled-bg-color: #DDD;\n",
              "  }\n",
              "\n",
              "  [theme=dark] .colab-df-quickchart {\n",
              "      --bg-color: #3B4455;\n",
              "      --fill-color: #D2E3FC;\n",
              "      --hover-bg-color: #434B5C;\n",
              "      --hover-fill-color: #FFFFFF;\n",
              "      --disabled-bg-color: #3B4455;\n",
              "      --disabled-fill-color: #666;\n",
              "  }\n",
              "\n",
              "  .colab-df-quickchart {\n",
              "    background-color: var(--bg-color);\n",
              "    border: none;\n",
              "    border-radius: 50%;\n",
              "    cursor: pointer;\n",
              "    display: none;\n",
              "    fill: var(--fill-color);\n",
              "    height: 32px;\n",
              "    padding: 0;\n",
              "    width: 32px;\n",
              "  }\n",
              "\n",
              "  .colab-df-quickchart:hover {\n",
              "    background-color: var(--hover-bg-color);\n",
              "    box-shadow: 0 1px 2px rgba(60, 64, 67, 0.3), 0 1px 3px 1px rgba(60, 64, 67, 0.15);\n",
              "    fill: var(--button-hover-fill-color);\n",
              "  }\n",
              "\n",
              "  .colab-df-quickchart-complete:disabled,\n",
              "  .colab-df-quickchart-complete:disabled:hover {\n",
              "    background-color: var(--disabled-bg-color);\n",
              "    fill: var(--disabled-fill-color);\n",
              "    box-shadow: none;\n",
              "  }\n",
              "\n",
              "  .colab-df-spinner {\n",
              "    border: 2px solid var(--fill-color);\n",
              "    border-color: transparent;\n",
              "    border-bottom-color: var(--fill-color);\n",
              "    animation:\n",
              "      spin 1s steps(1) infinite;\n",
              "  }\n",
              "\n",
              "  @keyframes spin {\n",
              "    0% {\n",
              "      border-color: transparent;\n",
              "      border-bottom-color: var(--fill-color);\n",
              "      border-left-color: var(--fill-color);\n",
              "    }\n",
              "    20% {\n",
              "      border-color: transparent;\n",
              "      border-left-color: var(--fill-color);\n",
              "      border-top-color: var(--fill-color);\n",
              "    }\n",
              "    30% {\n",
              "      border-color: transparent;\n",
              "      border-left-color: var(--fill-color);\n",
              "      border-top-color: var(--fill-color);\n",
              "      border-right-color: var(--fill-color);\n",
              "    }\n",
              "    40% {\n",
              "      border-color: transparent;\n",
              "      border-right-color: var(--fill-color);\n",
              "      border-top-color: var(--fill-color);\n",
              "    }\n",
              "    60% {\n",
              "      border-color: transparent;\n",
              "      border-right-color: var(--fill-color);\n",
              "    }\n",
              "    80% {\n",
              "      border-color: transparent;\n",
              "      border-right-color: var(--fill-color);\n",
              "      border-bottom-color: var(--fill-color);\n",
              "    }\n",
              "    90% {\n",
              "      border-color: transparent;\n",
              "      border-bottom-color: var(--fill-color);\n",
              "    }\n",
              "  }\n",
              "</style>\n",
              "\n",
              "  <script>\n",
              "    async function quickchart(key) {\n",
              "      const quickchartButtonEl =\n",
              "        document.querySelector('#' + key + ' button');\n",
              "      quickchartButtonEl.disabled = true;  // To prevent multiple clicks.\n",
              "      quickchartButtonEl.classList.add('colab-df-spinner');\n",
              "      try {\n",
              "        const charts = await google.colab.kernel.invokeFunction(\n",
              "            'suggestCharts', [key], {});\n",
              "      } catch (error) {\n",
              "        console.error('Error during call to suggestCharts:', error);\n",
              "      }\n",
              "      quickchartButtonEl.classList.remove('colab-df-spinner');\n",
              "      quickchartButtonEl.classList.add('colab-df-quickchart-complete');\n",
              "    }\n",
              "    (() => {\n",
              "      let quickchartButtonEl =\n",
              "        document.querySelector('#df-198beed3-84ad-457d-af9b-210f8bccedf4 button');\n",
              "      quickchartButtonEl.style.display =\n",
              "        google.colab.kernel.accessAllowed ? 'block' : 'none';\n",
              "    })();\n",
              "  </script>\n",
              "</div>\n",
              "\n",
              "    </div>\n",
              "  </div>\n"
            ],
            "application/vnd.google.colaboratory.intrinsic+json": {
              "type": "dataframe",
              "variable_name": "df",
              "summary": "{\n  \"name\": \"df\",\n  \"rows\": 14094,\n  \"fields\": [\n    {\n      \"column\": \"unknown1\",\n      \"properties\": {\n        \"dtype\": \"category\",\n        \"num_unique_values\": 4,\n        \"samples\": [\n          \"type2\",\n          \"type4\",\n          \"type3\"\n        ],\n        \"semantic_type\": \"\",\n        \"description\": \"\"\n      }\n    },\n    {\n      \"column\": \"unknown2\",\n      \"properties\": {\n        \"dtype\": \"number\",\n        \"std\": 4216,\n        \"min\": 1000,\n        \"max\": 294451,\n        \"num_unique_values\": 2951,\n        \"samples\": [\n          1178,\n          4834,\n          1948\n        ],\n        \"semantic_type\": \"\",\n        \"description\": \"\"\n      }\n    },\n    {\n      \"column\": \"unknown3\",\n      \"properties\": {\n        \"dtype\": \"number\",\n        \"std\": 550,\n        \"min\": 200,\n        \"max\": 9650,\n        \"num_unique_values\": 842,\n        \"samples\": [\n          946,\n          918,\n          3007\n        ],\n        \"semantic_type\": \"\",\n        \"description\": \"\"\n      }\n    },\n    {\n      \"column\": \"unknown4\",\n      \"properties\": {\n        \"dtype\": \"number\",\n        \"std\": 0,\n        \"min\": 0,\n        \"max\": 3,\n        \"num_unique_values\": 4,\n        \"samples\": [\n          1,\n          3,\n          0\n        ],\n        \"semantic_type\": \"\",\n        \"description\": \"\"\n      }\n    },\n    {\n      \"column\": \"unknown5\",\n      \"properties\": {\n        \"dtype\": \"number\",\n        \"std\": 0,\n        \"min\": 0,\n        \"max\": 27,\n        \"num_unique_values\": 10,\n        \"samples\": [\n          7,\n          1,\n          6\n        ],\n        \"semantic_type\": \"\",\n        \"description\": \"\"\n      }\n    },\n    {\n      \"column\": \"unknown6\",\n      \"properties\": {\n        \"dtype\": \"number\",\n        \"std\": 28,\n        \"min\": 0,\n        \"max\": 2398,\n        \"num_unique_values\": 102,\n        \"samples\": [\n          20,\n          33,\n          45\n        ],\n        \"semantic_type\": \"\",\n        \"description\": \"\"\n      }\n    },\n    {\n      \"column\": \"unknown7\",\n      \"properties\": {\n        \"dtype\": \"number\",\n        \"std\": 128,\n        \"min\": 0,\n        \"max\": 5701,\n        \"num_unique_values\": 496,\n        \"samples\": [\n          523,\n          129,\n          5701\n        ],\n        \"semantic_type\": \"\",\n        \"description\": \"\"\n      }\n    },\n    {\n      \"column\": \"unknown8\",\n      \"properties\": {\n        \"dtype\": \"number\",\n        \"std\": 533,\n        \"min\": 0,\n        \"max\": 31706,\n        \"num_unique_values\": 1281,\n        \"samples\": [\n          638,\n          1690,\n          6795\n        ],\n        \"semantic_type\": \"\",\n        \"description\": \"\"\n      }\n    },\n    {\n      \"column\": \"unknown9\",\n      \"properties\": {\n        \"dtype\": \"number\",\n        \"std\": 0.8091906511533659,\n        \"min\": 0.0,\n        \"max\": 52.7,\n        \"num_unique_values\": 47,\n        \"samples\": [\n          2.7,\n          3.9,\n          38.0\n        ],\n        \"semantic_type\": \"\",\n        \"description\": \"\"\n      }\n    },\n    {\n      \"column\": \"unknown10\",\n      \"properties\": {\n        \"dtype\": \"number\",\n        \"std\": 11,\n        \"min\": 0,\n        \"max\": 877,\n        \"num_unique_values\": 100,\n        \"samples\": [\n          82,\n          18,\n          87\n        ],\n        \"semantic_type\": \"\",\n        \"description\": \"\"\n      }\n    },\n    {\n      \"column\": \"unknown11\",\n      \"properties\": {\n        \"dtype\": \"number\",\n        \"std\": 59,\n        \"min\": 0,\n        \"max\": 419,\n        \"num_unique_values\": 298,\n        \"samples\": [\n          183,\n          177,\n          390\n        ],\n        \"semantic_type\": \"\",\n        \"description\": \"\"\n      }\n    },\n    {\n      \"column\": \"unknown12\",\n      \"properties\": {\n        \"dtype\": \"number\",\n        \"std\": 3,\n        \"min\": 0,\n        \"max\": 176,\n        \"num_unique_values\": 57,\n        \"samples\": [\n          6,\n          2,\n          16\n        ],\n        \"semantic_type\": \"\",\n        \"description\": \"\"\n      }\n    },\n    {\n      \"column\": \"unknown13\",\n      \"properties\": {\n        \"dtype\": \"number\",\n        \"std\": 1528,\n        \"min\": 0,\n        \"max\": 56761,\n        \"num_unique_values\": 1910,\n        \"samples\": [\n          432,\n          67,\n          5197\n        ],\n        \"semantic_type\": \"\",\n        \"description\": \"\"\n      }\n    },\n    {\n      \"column\": \"unknown14\",\n      \"properties\": {\n        \"dtype\": \"number\",\n        \"std\": 6,\n        \"min\": 0,\n        \"max\": 403,\n        \"num_unique_values\": 71,\n        \"samples\": [\n          27,\n          5,\n          95\n        ],\n        \"semantic_type\": \"\",\n        \"description\": \"\"\n      }\n    },\n    {\n      \"column\": \"unknown15\",\n      \"properties\": {\n        \"dtype\": \"number\",\n        \"std\": 0,\n        \"min\": 0,\n        \"max\": 17,\n        \"num_unique_values\": 15,\n        \"samples\": [\n          10,\n          16,\n          0\n        ],\n        \"semantic_type\": \"\",\n        \"description\": \"\"\n      }\n    },\n    {\n      \"column\": \"unknown16\",\n      \"properties\": {\n        \"dtype\": \"number\",\n        \"std\": 49.611358426270925,\n        \"min\": 2.9,\n        \"max\": 2840.5,\n        \"num_unique_values\": 1769,\n        \"samples\": [\n          118.5,\n          90.6,\n          68.2\n        ],\n        \"semantic_type\": \"\",\n        \"description\": \"\"\n      }\n    },\n    {\n      \"column\": \"unknown17\",\n      \"properties\": {\n        \"dtype\": \"number\",\n        \"std\": 531,\n        \"min\": 0,\n        \"max\": 2132,\n        \"num_unique_values\": 1552,\n        \"samples\": [\n          1684,\n          1108,\n          191\n        ],\n        \"semantic_type\": \"\",\n        \"description\": \"\"\n      }\n    },\n    {\n      \"column\": \"target\",\n      \"properties\": {\n        \"dtype\": \"number\",\n        \"std\": 0,\n        \"min\": 0,\n        \"max\": 1,\n        \"num_unique_values\": 2,\n        \"samples\": [\n          1,\n          0\n        ],\n        \"semantic_type\": \"\",\n        \"description\": \"\"\n      }\n    }\n  ]\n}"
            }
          },
          "metadata": {},
          "execution_count": 3
        }
      ]
    },
    {
      "cell_type": "code",
      "source": [
        "# Unknown1, 4를 범주형으로 변환\n",
        "df['unknown1'] = df['unknown1'].astype('category')\n",
        "df['unknown4'] = df['unknown4'].astype('category')\n",
        "\n",
        "# 확인\n",
        "df.info()"
      ],
      "metadata": {
        "colab": {
          "base_uri": "https://localhost:8080/"
        },
        "id": "TlayW-jbwzlF",
        "outputId": "2ab0d02d-6eee-41a8-e215-6bc9fb1fb8e3"
      },
      "execution_count": 4,
      "outputs": [
        {
          "output_type": "stream",
          "name": "stdout",
          "text": [
            "<class 'pandas.core.frame.DataFrame'>\n",
            "RangeIndex: 14094 entries, 0 to 14093\n",
            "Data columns (total 18 columns):\n",
            " #   Column     Non-Null Count  Dtype   \n",
            "---  ------     --------------  -----   \n",
            " 0   unknown1   14094 non-null  category\n",
            " 1   unknown2   14094 non-null  int64   \n",
            " 2   unknown3   14094 non-null  int64   \n",
            " 3   unknown4   14094 non-null  category\n",
            " 4   unknown5   14094 non-null  int64   \n",
            " 5   unknown6   14094 non-null  int64   \n",
            " 6   unknown7   14094 non-null  int64   \n",
            " 7   unknown8   14094 non-null  int64   \n",
            " 8   unknown9   14094 non-null  float64 \n",
            " 9   unknown10  14094 non-null  int64   \n",
            " 10  unknown11  14094 non-null  int64   \n",
            " 11  unknown12  14094 non-null  int64   \n",
            " 12  unknown13  14094 non-null  int64   \n",
            " 13  unknown14  14094 non-null  int64   \n",
            " 14  unknown15  14094 non-null  int64   \n",
            " 15  unknown16  14094 non-null  float64 \n",
            " 16  unknown17  14094 non-null  int64   \n",
            " 17  target     14094 non-null  int64   \n",
            "dtypes: category(2), float64(2), int64(14)\n",
            "memory usage: 1.7 MB\n"
          ]
        }
      ]
    },
    {
      "cell_type": "code",
      "source": [
        "# 범주형 변수와 숫자형 변수 구분\n",
        "df_numeric = df.select_dtypes(include='number')\n",
        "df_category = df.select_dtypes(include= 'category')"
      ],
      "metadata": {
        "id": "4Njc5vGMxoJs"
      },
      "execution_count": 7,
      "outputs": []
    },
    {
      "cell_type": "code",
      "source": [
        "# 순서형 범주형 변수\n",
        "ordinal_cols = ['unknown4']\n",
        "categorical_cols = ['unknown1', 'unknown4']\n",
        "\n",
        "# 이산형 변수\n",
        "discrete_cols = ['unknown4', 'unknown5', 'unknown15']\n",
        "\n",
        "# 연속형 변수\n",
        "continuous_cols = ['unknown2', 'unknown3', 'unknown6', 'unknown7', 'unknown8', 'unknown9',\n",
        "                   'unknown10', 'unknown11', 'unknown12', 'unknown13', 'unknown14',\n",
        "                   'unknown16', 'unknown17']"
      ],
      "metadata": {
        "id": "aemRUZ_TxqTz"
      },
      "execution_count": 8,
      "outputs": []
    },
    {
      "cell_type": "markdown",
      "source": [
        "### SMOTE 전"
      ],
      "metadata": {
        "id": "4gArIyT76Mzx"
      }
    },
    {
      "cell_type": "code",
      "source": [
        "df_encoded = pd.get_dummies(df, columns=['unknown1', 'unknown4'])\n",
        "\n",
        "# 독립 변수와 종속 변수 설정\n",
        "X = df_encoded.drop(columns=['target'])  # 'target' 열을 제외한 모든 열\n",
        "y = df_encoded['target']  # 'target' 열\n",
        "\n",
        "from sklearn.model_selection import train_test_split\n",
        "X_train, X_test, y_train, y_test = train_test_split(X, y, test_size=0.2, random_state=42, stratify=y)\n",
        "\n",
        "from lightgbm import LGBMClassifier\n",
        "model = LGBMClassifier()\n",
        "model.fit(X_train, y_train)\n",
        "\n",
        "from sklearn.metrics import recall_score\n",
        "y_pred = model.predict(X_test)\n",
        "recall = recall_score(y_test, y_pred)\n",
        "print(f'Recall: {recall}')"
      ],
      "metadata": {
        "colab": {
          "base_uri": "https://localhost:8080/"
        },
        "id": "CdniUp2W6OsB",
        "outputId": "e0ed2206-04bf-47ed-e7ce-af0906949e1a"
      },
      "execution_count": 38,
      "outputs": [
        {
          "output_type": "stream",
          "name": "stdout",
          "text": [
            "[LightGBM] [Info] Number of positive: 962, number of negative: 10313\n",
            "[LightGBM] [Info] Auto-choosing col-wise multi-threading, the overhead of testing was 0.005476 seconds.\n",
            "You can set `force_col_wise=true` to remove the overhead.\n",
            "[LightGBM] [Info] Total Bins 2267\n",
            "[LightGBM] [Info] Number of data points in the train set: 11275, number of used features: 22\n",
            "[LightGBM] [Info] [binary:BoostFromScore]: pavg=0.085322 -> initscore=-2.372146\n",
            "[LightGBM] [Info] Start training from score -2.372146\n",
            "Recall: 0.016597510373443983\n"
          ]
        }
      ]
    },
    {
      "cell_type": "markdown",
      "source": [
        "### SMOTE"
      ],
      "metadata": {
        "id": "yxbvF-FSyJpZ"
      }
    },
    {
      "cell_type": "code",
      "source": [
        "from collections import Counter\n",
        "\n",
        "# target 변수의 클래스 분포 확인\n",
        "print(Counter(df['target']))"
      ],
      "metadata": {
        "colab": {
          "base_uri": "https://localhost:8080/"
        },
        "id": "CTWMWU_dyAH3",
        "outputId": "b125ee3b-97ed-4147-bb39-bd70d48610a0"
      },
      "execution_count": 26,
      "outputs": [
        {
          "output_type": "stream",
          "name": "stdout",
          "text": [
            "Counter({0: 12891, 1: 1203})\n"
          ]
        }
      ]
    },
    {
      "cell_type": "markdown",
      "source": [
        "#### 1:1 비율"
      ],
      "metadata": {
        "id": "8pm5ikwR1U--"
      }
    },
    {
      "cell_type": "code",
      "source": [
        "from imblearn.over_sampling import SMOTE\n",
        "\n",
        "# pandas를 이용한 원-핫 인코딩\n",
        "df_encoded = pd.get_dummies(df, columns=['unknown1', 'unknown4'])  # 범주형 열만 인코딩\n",
        "\n",
        "# 특성과 타겟 변수 분리\n",
        "X = df_encoded.drop('target', axis=1)\n",
        "y = df_encoded['target']\n",
        "\n",
        "# SMOTE 적용\n",
        "smote = SMOTE(random_state=42)\n",
        "X_res, y_res = smote.fit_resample(X, y)\n",
        "\n",
        "# 오버샘플링 후 클래스 분포 확인\n",
        "print(Counter(y_res))"
      ],
      "metadata": {
        "colab": {
          "base_uri": "https://localhost:8080/"
        },
        "id": "yrcckFZv0myw",
        "outputId": "ad26bcad-c6c9-420d-8583-96285ccf4266"
      },
      "execution_count": 27,
      "outputs": [
        {
          "output_type": "stream",
          "name": "stdout",
          "text": [
            "Counter({0: 12891, 1: 12891})\n"
          ]
        }
      ]
    },
    {
      "cell_type": "markdown",
      "source": [
        "* 시각화"
      ],
      "metadata": {
        "id": "J9ldfl0O2a5r"
      }
    },
    {
      "cell_type": "code",
      "source": [
        "# 샘플링 전 클래스 분포\n",
        "original_counts = Counter(y)\n",
        "\n",
        "# 샘플링 후 클래스 분포\n",
        "resampled_counts = Counter(y_res)\n",
        "\n",
        "# 그래프 그리기\n",
        "plt.figure(figsize=(12, 5))\n",
        "\n",
        "# 첫 번째 그래프: 샘플링 전\n",
        "plt.subplot(1, 2, 1)  # 1행 2열 중 첫 번째 그래프\n",
        "sns.barplot(x=list(original_counts.keys()), y=list(original_counts.values()), palette='Blues')\n",
        "plt.title('Before SMOTE')\n",
        "plt.xlabel('Class')\n",
        "plt.ylabel('Count')\n",
        "\n",
        "# 두 번째 그래프: 샘플링 후\n",
        "plt.subplot(1, 2, 2)  # 1행 2열 중 두 번째 그래프\n",
        "sns.barplot(x=list(resampled_counts.keys()), y=list(resampled_counts.values()), palette='Greens')\n",
        "plt.title('After SMOTE')\n",
        "plt.xlabel('Class')\n",
        "plt.ylabel('Count')\n",
        "\n",
        "# 그래프 표시\n",
        "plt.tight_layout()\n",
        "plt.show()"
      ],
      "metadata": {
        "colab": {
          "base_uri": "https://localhost:8080/",
          "height": 681
        },
        "id": "nzYEsS622KQ1",
        "outputId": "c7d70bf8-50d1-4581-ce89-c9e2bed365f6"
      },
      "execution_count": 17,
      "outputs": [
        {
          "output_type": "stream",
          "name": "stderr",
          "text": [
            "<ipython-input-17-874d1f0287e6>:12: FutureWarning: \n",
            "\n",
            "Passing `palette` without assigning `hue` is deprecated and will be removed in v0.14.0. Assign the `x` variable to `hue` and set `legend=False` for the same effect.\n",
            "\n",
            "  sns.barplot(x=list(original_counts.keys()), y=list(original_counts.values()), palette='Blues')\n",
            "<ipython-input-17-874d1f0287e6>:19: FutureWarning: \n",
            "\n",
            "Passing `palette` without assigning `hue` is deprecated and will be removed in v0.14.0. Assign the `x` variable to `hue` and set `legend=False` for the same effect.\n",
            "\n",
            "  sns.barplot(x=list(resampled_counts.keys()), y=list(resampled_counts.values()), palette='Greens')\n"
          ]
        },
        {
          "output_type": "display_data",
          "data": {
            "text/plain": [
              "<Figure size 1200x500 with 2 Axes>"
            ],
            "image/png": "[encoded data removed]"
          },
          "metadata": {}
        }
      ]
    },
    {
      "cell_type": "markdown",
      "source": [
        "* 모델링"
      ],
      "metadata": {
        "id": "1pa-BWYF3jfK"
      }
    },
    {
      "cell_type": "code",
      "source": [
        "import lightgbm as lgb\n",
        "from sklearn.model_selection import train_test_split\n",
        "from sklearn.metrics import recall_score, classification_report\n",
        "\n",
        "# 학습 및 테스트 데이터 분리 (SMOTE로 생성한 데이터 사용)\n",
        "X_train, X_test, y_train, y_test = train_test_split(X_res, y_res, test_size=0.2, random_state=42)\n",
        "\n",
        "# LightGBM 모델 학습\n",
        "lgb_model = lgb.LGBMClassifier()  # 기본 설정의 LightGBM 분류기 사용\n",
        "lgb_model.fit(X_train, y_train)\n",
        "\n",
        "# 테스트 데이터로 예측\n",
        "y_pred = lgb_model.predict(X_test)\n",
        "\n",
        "# Recall 계산\n",
        "recall = recall_score(y_test, y_pred)\n",
        "print(f\"Recall: {recall}\")"
      ],
      "metadata": {
        "colab": {
          "base_uri": "https://localhost:8080/"
        },
        "id": "GjYetugf35Sa",
        "outputId": "9290011e-0487-43e9-9f9a-0ea97f435753"
      },
      "execution_count": 28,
      "outputs": [
        {
          "output_type": "stream",
          "name": "stdout",
          "text": [
            "[LightGBM] [Info] Number of positive: 10354, number of negative: 10271\n",
            "[LightGBM] [Info] Auto-choosing row-wise multi-threading, the overhead of testing was 0.003542 seconds.\n",
            "You can set `force_row_wise=true` to remove the overhead.\n",
            "And if memory is not enough, you can set `force_col_wise=true`.\n",
            "[LightGBM] [Info] Total Bins 2595\n",
            "[LightGBM] [Info] Number of data points in the train set: 20625, number of used features: 22\n",
            "[LightGBM] [Info] [binary:BoostFromScore]: pavg=0.502012 -> initscore=0.008049\n",
            "[LightGBM] [Info] Start training from score 0.008049\n",
            "Recall: 0.8411509657075286\n"
          ]
        }
      ]
    },
    {
      "cell_type": "markdown",
      "source": [
        "#### 8:2 비율"
      ],
      "metadata": {
        "id": "aBaxXCOW20GR"
      }
    },
    {
      "cell_type": "code",
      "source": [
        "from imblearn.over_sampling import SMOTE\n",
        "\n",
        "# pandas를 이용한 원-핫 인코딩\n",
        "df_encoded = pd.get_dummies(df, columns=['unknown1', 'unknown4'])  # 범주형 열만 인코딩\n",
        "\n",
        "# 특성과 타겟 변수 분리\n",
        "X = df_encoded.drop('target', axis=1)\n",
        "y = df_encoded['target']\n",
        "\n",
        "# SMOTE 적용, 소수 클래스 비율을 80%로 설정 (8:2 비율)\n",
        "smote = SMOTE(sampling_strategy=0.8, random_state=42)\n",
        "X_res, y_res = smote.fit_resample(X, y)\n",
        "\n",
        "# 오버샘플링 후 클래스 분포 확인\n",
        "from collections import Counter\n",
        "print(Counter(y_res))"
      ],
      "metadata": {
        "colab": {
          "base_uri": "https://localhost:8080/"
        },
        "id": "JWS2k8_P22Hq",
        "outputId": "3a0c05bf-aa4c-4421-8fd8-2e439de95007"
      },
      "execution_count": 29,
      "outputs": [
        {
          "output_type": "stream",
          "name": "stdout",
          "text": [
            "Counter({0: 12891, 1: 10312})\n"
          ]
        }
      ]
    },
    {
      "cell_type": "markdown",
      "source": [
        "* 시각화"
      ],
      "metadata": {
        "id": "GN7bLex8248C"
      }
    },
    {
      "cell_type": "code",
      "source": [
        "# 샘플링 전 클래스 분포\n",
        "original_counts = Counter(y)\n",
        "\n",
        "# 샘플링 후 클래스 분포\n",
        "resampled_counts = Counter(y_res)\n",
        "\n",
        "# 그래프 그리기\n",
        "plt.figure(figsize=(12, 5))\n",
        "\n",
        "# 첫 번째 그래프: 샘플링 전\n",
        "plt.subplot(1, 2, 1)  # 1행 2열 중 첫 번째 그래프\n",
        "sns.barplot(x=list(original_counts.keys()), y=list(original_counts.values()), palette='Blues')\n",
        "plt.title('Before SMOTE')\n",
        "plt.xlabel('Class')\n",
        "plt.ylabel('Count')\n",
        "\n",
        "# 두 번째 그래프: 샘플링 후\n",
        "plt.subplot(1, 2, 2)  # 1행 2열 중 두 번째 그래프\n",
        "sns.barplot(x=list(resampled_counts.keys()), y=list(resampled_counts.values()), palette='Greens')\n",
        "plt.title('After SMOTE')\n",
        "plt.xlabel('Class')\n",
        "plt.ylabel('Count')\n",
        "\n",
        "# 그래프 표시\n",
        "plt.tight_layout()\n",
        "plt.show()"
      ],
      "metadata": {
        "colab": {
          "base_uri": "https://localhost:8080/",
          "height": 681
        },
        "id": "3lvh9J5a27LR",
        "outputId": "6d093d56-2f7e-4140-acda-99ba172e4790"
      },
      "execution_count": 23,
      "outputs": [
        {
          "output_type": "stream",
          "name": "stderr",
          "text": [
            "<ipython-input-23-874d1f0287e6>:12: FutureWarning: \n",
            "\n",
            "Passing `palette` without assigning `hue` is deprecated and will be removed in v0.14.0. Assign the `x` variable to `hue` and set `legend=False` for the same effect.\n",
            "\n",
            "  sns.barplot(x=list(original_counts.keys()), y=list(original_counts.values()), palette='Blues')\n",
            "<ipython-input-23-874d1f0287e6>:19: FutureWarning: \n",
            "\n",
            "Passing `palette` without assigning `hue` is deprecated and will be removed in v0.14.0. Assign the `x` variable to `hue` and set `legend=False` for the same effect.\n",
            "\n",
            "  sns.barplot(x=list(resampled_counts.keys()), y=list(resampled_counts.values()), palette='Greens')\n"
          ]
        },
        {
          "output_type": "display_data",
          "data": {
            "text/plain": [
              "<Figure size 1200x500 with 2 Axes>"
            ],
            "image/png": "[encoded data removed]"
          },
          "metadata": {}
        }
      ]
    },
    {
      "cell_type": "markdown",
      "source": [
        "* 모델링"
      ],
      "metadata": {
        "id": "p6podxAf4e5Z"
      }
    },
    {
      "cell_type": "code",
      "source": [
        "import lightgbm as lgb\n",
        "from sklearn.model_selection import train_test_split\n",
        "from sklearn.metrics import recall_score, classification_report\n",
        "\n",
        "# 학습 및 테스트 데이터 분리 (SMOTE로 생성한 데이터 사용)\n",
        "X_train, X_test, y_train, y_test = train_test_split(X_res, y_res, test_size=0.2, random_state=42)\n",
        "\n",
        "# LightGBM 모델 학습\n",
        "lgb_model = lgb.LGBMClassifier()  # 기본 설정의 LightGBM 분류기 사용\n",
        "lgb_model.fit(X_train, y_train)\n",
        "\n",
        "# 테스트 데이터로 예측\n",
        "y_pred = lgb_model.predict(X_test)\n",
        "\n",
        "# Recall 계산\n",
        "recall = recall_score(y_test, y_pred)\n",
        "print(f\"Recall: {recall}\")"
      ],
      "metadata": {
        "colab": {
          "base_uri": "https://localhost:8080/"
        },
        "id": "OuLz0yxY4gRA",
        "outputId": "4c07e5a9-5f67-4a81-f57c-f6002f8abdfb"
      },
      "execution_count": 30,
      "outputs": [
        {
          "output_type": "stream",
          "name": "stdout",
          "text": [
            "[LightGBM] [Info] Number of positive: 8278, number of negative: 10284\n",
            "[LightGBM] [Info] Auto-choosing row-wise multi-threading, the overhead of testing was 0.004552 seconds.\n",
            "You can set `force_row_wise=true` to remove the overhead.\n",
            "And if memory is not enough, you can set `force_col_wise=true`.\n",
            "[LightGBM] [Info] Total Bins 2573\n",
            "[LightGBM] [Info] Number of data points in the train set: 18562, number of used features: 22\n",
            "[LightGBM] [Info] [binary:BoostFromScore]: pavg=0.445965 -> initscore=-0.216988\n",
            "[LightGBM] [Info] Start training from score -0.216988\n",
            "Recall: 0.7684365781710915\n"
          ]
        }
      ]
    },
    {
      "cell_type": "markdown",
      "source": [
        "#### 7:3 비율"
      ],
      "metadata": {
        "id": "phAaIaLs1qC2"
      }
    },
    {
      "cell_type": "code",
      "source": [
        "from imblearn.over_sampling import SMOTE\n",
        "\n",
        "# pandas를 이용한 원-핫 인코딩\n",
        "df_encoded = pd.get_dummies(df, columns=['unknown1', 'unknown4'])  # 범주형 열만 인코딩\n",
        "\n",
        "# 특성과 타겟 변수 분리\n",
        "X = df_encoded.drop('target', axis=1)\n",
        "y = df_encoded['target']\n",
        "\n",
        "# SMOTE 적용, 소수 클래스 비율을 70%로 설정 (7:3 비율)\n",
        "smote = SMOTE(sampling_strategy=0.7, random_state=42)\n",
        "X_res, y_res = smote.fit_resample(X, y)\n",
        "\n",
        "# 오버샘플링 후 클래스 분포 확인\n",
        "from collections import Counter\n",
        "print(Counter(y_res))"
      ],
      "metadata": {
        "colab": {
          "base_uri": "https://localhost:8080/"
        },
        "id": "lffLxMsg1ZUF",
        "outputId": "43779832-46a4-47b5-c131-b1b76b496700"
      },
      "execution_count": 31,
      "outputs": [
        {
          "output_type": "stream",
          "name": "stdout",
          "text": [
            "Counter({0: 12891, 1: 9023})\n"
          ]
        }
      ]
    },
    {
      "cell_type": "markdown",
      "source": [
        "* 시각화"
      ],
      "metadata": {
        "id": "DYfAVbWW2X-T"
      }
    },
    {
      "cell_type": "code",
      "source": [
        "# 샘플링 전 클래스 분포\n",
        "original_counts = Counter(y)\n",
        "\n",
        "# 샘플링 후 클래스 분포\n",
        "resampled_counts = Counter(y_res)\n",
        "\n",
        "# 그래프 그리기\n",
        "plt.figure(figsize=(12, 5))\n",
        "\n",
        "# 첫 번째 그래프: 샘플링 전\n",
        "plt.subplot(1, 2, 1)  # 1행 2열 중 첫 번째 그래프\n",
        "sns.barplot(x=list(original_counts.keys()), y=list(original_counts.values()), palette='Blues')\n",
        "plt.title('Before SMOTE')\n",
        "plt.xlabel('Class')\n",
        "plt.ylabel('Count')\n",
        "\n",
        "# 두 번째 그래프: 샘플링 후\n",
        "plt.subplot(1, 2, 2)  # 1행 2열 중 두 번째 그래프\n",
        "sns.barplot(x=list(resampled_counts.keys()), y=list(resampled_counts.values()), palette='Greens')\n",
        "plt.title('After SMOTE')\n",
        "plt.xlabel('Class')\n",
        "plt.ylabel('Count')\n",
        "\n",
        "# 그래프 표시\n",
        "plt.tight_layout()\n",
        "plt.show()"
      ],
      "metadata": {
        "colab": {
          "base_uri": "https://localhost:8080/",
          "height": 681
        },
        "id": "OVIx-OHb1xU6",
        "outputId": "49ef90a8-4104-427e-cbb9-1e8ce7af80c8"
      },
      "execution_count": 19,
      "outputs": [
        {
          "output_type": "stream",
          "name": "stderr",
          "text": [
            "<ipython-input-19-874d1f0287e6>:12: FutureWarning: \n",
            "\n",
            "Passing `palette` without assigning `hue` is deprecated and will be removed in v0.14.0. Assign the `x` variable to `hue` and set `legend=False` for the same effect.\n",
            "\n",
            "  sns.barplot(x=list(original_counts.keys()), y=list(original_counts.values()), palette='Blues')\n",
            "<ipython-input-19-874d1f0287e6>:19: FutureWarning: \n",
            "\n",
            "Passing `palette` without assigning `hue` is deprecated and will be removed in v0.14.0. Assign the `x` variable to `hue` and set `legend=False` for the same effect.\n",
            "\n",
            "  sns.barplot(x=list(resampled_counts.keys()), y=list(resampled_counts.values()), palette='Greens')\n"
          ]
        },
        {
          "output_type": "display_data",
          "data": {
            "text/plain": [
              "<Figure size 1200x500 with 2 Axes>"
            ],
            "image/png": "[encoded data removed]"
          },
          "metadata": {}
        }
      ]
    },
    {
      "cell_type": "markdown",
      "source": [
        "* 모델링"
      ],
      "metadata": {
        "id": "tsG7V56p4jQJ"
      }
    },
    {
      "cell_type": "code",
      "source": [
        "import lightgbm as lgb\n",
        "from sklearn.model_selection import train_test_split\n",
        "from sklearn.metrics import recall_score, classification_report\n",
        "\n",
        "# 학습 및 테스트 데이터 분리 (SMOTE로 생성한 데이터 사용)\n",
        "X_train, X_test, y_train, y_test = train_test_split(X_res, y_res, test_size=0.2, random_state=42)\n",
        "\n",
        "# LightGBM 모델 학습\n",
        "lgb_model = lgb.LGBMClassifier()  # 기본 설정의 LightGBM 분류기 사용\n",
        "lgb_model.fit(X_train, y_train)\n",
        "\n",
        "# 테스트 데이터로 예측\n",
        "y_pred = lgb_model.predict(X_test)\n",
        "\n",
        "# Recall 계산\n",
        "recall = recall_score(y_test, y_pred)\n",
        "print(f\"Recall: {recall}\")"
      ],
      "metadata": {
        "colab": {
          "base_uri": "https://localhost:8080/"
        },
        "id": "ryzQOv1c4h5Z",
        "outputId": "080cc14b-16cc-4b2a-98e7-900a1cbfa028"
      },
      "execution_count": 32,
      "outputs": [
        {
          "output_type": "stream",
          "name": "stdout",
          "text": [
            "[LightGBM] [Info] Number of positive: 7215, number of negative: 10316\n",
            "[LightGBM] [Info] Auto-choosing col-wise multi-threading, the overhead of testing was 0.005290 seconds.\n",
            "You can set `force_col_wise=true` to remove the overhead.\n",
            "[LightGBM] [Info] Total Bins 2578\n",
            "[LightGBM] [Info] Number of data points in the train set: 17531, number of used features: 22\n",
            "[LightGBM] [Info] [binary:BoostFromScore]: pavg=0.411557 -> initscore=-0.357534\n",
            "[LightGBM] [Info] Start training from score -0.357534\n",
            "Recall: 0.7018805309734514\n"
          ]
        }
      ]
    },
    {
      "cell_type": "markdown",
      "source": [
        "#### 6:4 비율"
      ],
      "metadata": {
        "id": "zqBdT-h-2vGg"
      }
    },
    {
      "cell_type": "code",
      "source": [
        "from imblearn.over_sampling import SMOTE\n",
        "\n",
        "# pandas를 이용한 원-핫 인코딩\n",
        "df_encoded = pd.get_dummies(df, columns=['unknown1', 'unknown4'])  # 범주형 열만 인코딩\n",
        "\n",
        "# 특성과 타겟 변수 분리\n",
        "X = df_encoded.drop('target', axis=1)\n",
        "y = df_encoded['target']\n",
        "\n",
        "# SMOTE 적용, 소수 클래스 비율을 60%로 설정 (6:4 비율)\n",
        "smote = SMOTE(sampling_strategy=0.6, random_state=42)\n",
        "X_res, y_res = smote.fit_resample(X, y)\n",
        "\n",
        "# 오버샘플링 후 클래스 분포 확인\n",
        "from collections import Counter\n",
        "print(Counter(y_res))"
      ],
      "metadata": {
        "colab": {
          "base_uri": "https://localhost:8080/"
        },
        "id": "h3GtMkpD2Wgf",
        "outputId": "2afd1069-8b77-42b8-b8a3-4e296b2e9afd"
      },
      "execution_count": 33,
      "outputs": [
        {
          "output_type": "stream",
          "name": "stdout",
          "text": [
            "Counter({0: 12891, 1: 7734})\n"
          ]
        }
      ]
    },
    {
      "cell_type": "markdown",
      "source": [
        "* 시각화"
      ],
      "metadata": {
        "id": "pk9aD5gl2tKB"
      }
    },
    {
      "cell_type": "code",
      "source": [
        "# 샘플링 전 클래스 분포\n",
        "original_counts = Counter(y)\n",
        "\n",
        "# 샘플링 후 클래스 분포\n",
        "resampled_counts = Counter(y_res)\n",
        "\n",
        "# 그래프 그리기\n",
        "plt.figure(figsize=(12, 5))\n",
        "\n",
        "# 첫 번째 그래프: 샘플링 전\n",
        "plt.subplot(1, 2, 1)  # 1행 2열 중 첫 번째 그래프\n",
        "sns.barplot(x=list(original_counts.keys()), y=list(original_counts.values()), palette='Blues')\n",
        "plt.title('Before SMOTE')\n",
        "plt.xlabel('Class')\n",
        "plt.ylabel('Count')\n",
        "\n",
        "# 두 번째 그래프: 샘플링 후\n",
        "plt.subplot(1, 2, 2)  # 1행 2열 중 두 번째 그래프\n",
        "sns.barplot(x=list(resampled_counts.keys()), y=list(resampled_counts.values()), palette='Greens')\n",
        "plt.title('After SMOTE')\n",
        "plt.xlabel('Class')\n",
        "plt.ylabel('Count')\n",
        "\n",
        "# 그래프 표시\n",
        "plt.tight_layout()\n",
        "plt.show()"
      ],
      "metadata": {
        "colab": {
          "base_uri": "https://localhost:8080/",
          "height": 681
        },
        "id": "QESHodT42qYC",
        "outputId": "5103aec2-a538-4cee-f650-9934d2ad8e22"
      },
      "execution_count": 21,
      "outputs": [
        {
          "output_type": "stream",
          "name": "stderr",
          "text": [
            "<ipython-input-21-874d1f0287e6>:12: FutureWarning: \n",
            "\n",
            "Passing `palette` without assigning `hue` is deprecated and will be removed in v0.14.0. Assign the `x` variable to `hue` and set `legend=False` for the same effect.\n",
            "\n",
            "  sns.barplot(x=list(original_counts.keys()), y=list(original_counts.values()), palette='Blues')\n",
            "<ipython-input-21-874d1f0287e6>:19: FutureWarning: \n",
            "\n",
            "Passing `palette` without assigning `hue` is deprecated and will be removed in v0.14.0. Assign the `x` variable to `hue` and set `legend=False` for the same effect.\n",
            "\n",
            "  sns.barplot(x=list(resampled_counts.keys()), y=list(resampled_counts.values()), palette='Greens')\n"
          ]
        },
        {
          "output_type": "display_data",
          "data": {
            "text/plain": [
              "<Figure size 1200x500 with 2 Axes>"
            ],
            "image/png": "[encoded data removed]"
          },
          "metadata": {}
        }
      ]
    },
    {
      "cell_type": "markdown",
      "source": [
        "* 모델링"
      ],
      "metadata": {
        "id": "yYeBKyy74usq"
      }
    },
    {
      "cell_type": "code",
      "source": [
        "import lightgbm as lgb\n",
        "from sklearn.model_selection import train_test_split\n",
        "from sklearn.metrics import recall_score, classification_report\n",
        "\n",
        "# 학습 및 테스트 데이터 분리 (SMOTE로 생성한 데이터 사용)\n",
        "X_train, X_test, y_train, y_test = train_test_split(X_res, y_res, test_size=0.2, random_state=42)\n",
        "\n",
        "# LightGBM 모델 학습\n",
        "lgb_model = lgb.LGBMClassifier()  # 기본 설정의 LightGBM 분류기 사용\n",
        "lgb_model.fit(X_train, y_train)\n",
        "\n",
        "# 테스트 데이터로 예측\n",
        "y_pred = lgb_model.predict(X_test)\n",
        "\n",
        "# Recall 계산\n",
        "recall = recall_score(y_test, y_pred)\n",
        "print(f\"Recall: {recall}\")"
      ],
      "metadata": {
        "colab": {
          "base_uri": "https://localhost:8080/"
        },
        "id": "fSdusHEB2spQ",
        "outputId": "e1f0bf52-9a84-4c7c-a4da-fd05eca342d1"
      },
      "execution_count": 34,
      "outputs": [
        {
          "output_type": "stream",
          "name": "stdout",
          "text": [
            "[LightGBM] [Info] Number of positive: 6215, number of negative: 10285\n",
            "[LightGBM] [Info] Auto-choosing row-wise multi-threading, the overhead of testing was 0.011134 seconds.\n",
            "You can set `force_row_wise=true` to remove the overhead.\n",
            "And if memory is not enough, you can set `force_col_wise=true`.\n",
            "[LightGBM] [Info] Total Bins 2532\n",
            "[LightGBM] [Info] Number of data points in the train set: 16500, number of used features: 22\n",
            "[LightGBM] [Info] [binary:BoostFromScore]: pavg=0.376667 -> initscore=-0.503721\n",
            "[LightGBM] [Info] Start training from score -0.503721\n",
            "Recall: 0.6510862409479921\n"
          ]
        }
      ]
    },
    {
      "cell_type": "code",
      "source": [],
      "metadata": {
        "id": "-GSJbOxT4uWb"
      },
      "execution_count": null,
      "outputs": []
    }
  ]
}